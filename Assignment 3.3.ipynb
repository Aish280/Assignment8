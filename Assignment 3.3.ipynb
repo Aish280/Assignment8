{
 "cells": [
  {
   "cell_type": "code",
   "execution_count": 1,
   "metadata": {},
   "outputs": [
    {
     "name": "stdout",
     "output_type": "stream",
     "text": [
      "Enter a string: python\n",
      "Length of the input string is: 6\n"
     ]
    }
   ],
   "source": [
    "# 1)python program to calculate the length of a string\n",
    "str = input(\"Enter a string: \")\n",
    "counter = 0\n",
    "for s in str:\n",
    "      counter = counter+1\n",
    "print(\"Length of the input string is:\", counter)"
   ]
  },
  {
   "cell_type": "code",
   "execution_count": 2,
   "metadata": {},
   "outputs": [
    {
     "name": "stdout",
     "output_type": "stream",
     "text": [
      "Per char frequency in 'Data Science' is :\n",
      " {'D': 1, 'a': 2, 't': 1, ' ': 1, 'S': 1, 'c': 2, 'i': 1, 'e': 2, 'n': 1}\n"
     ]
    }
   ],
   "source": [
    "# 2)python program to count the number of characters in a string\n",
    "input_string = \"Data Science\"\n",
    "frequencies = {} \n",
    "for char in input_string: \n",
    "    if char in frequencies: \n",
    "        frequencies[char] += 1\n",
    "    else: \n",
    "        frequencies[char] = 1\n",
    "print (\"Per char frequency in '{}' is :\\n {}\".format(input_string, (frequencies)))"
   ]
  },
  {
   "cell_type": "code",
   "execution_count": 3,
   "metadata": {},
   "outputs": [
    {
     "name": "stdout",
     "output_type": "stream",
     "text": [
      "xyc abz\n"
     ]
    }
   ],
   "source": [
    "# 3)python program to get a single string from two given strings,seperated by a space and swap the first two characters \n",
    "def chars_mix_up(a, b):\n",
    "    new_a = b[:2] + a[2:]\n",
    "    new_b = a[:2] + b[2:]\n",
    "\n",
    "    return new_a + ' ' + new_b\n",
    "print(chars_mix_up('abc', 'xyz'))"
   ]
  },
  {
   "cell_type": "code",
   "execution_count": 4,
   "metadata": {},
   "outputs": [
    {
     "name": "stdout",
     "output_type": "stream",
     "text": [
      "Which is your favourite pet? dog\n",
      "My favourite pet is  DOG\n",
      "My favourite pet is  dog\n"
     ]
    }
   ],
   "source": [
    "# 4)python program to takes input from the user and display the input back in upper & lower cases\n",
    "user_input = input(\"Which is your favourite pet? \")\n",
    "print(\"My favourite pet is \", user_input.upper())\n",
    "print(\"My favourite pet is \", user_input.lower())"
   ]
  },
  {
   "cell_type": "code",
   "execution_count": 5,
   "metadata": {},
   "outputs": [
    {
     "name": "stdout",
     "output_type": "stream",
     "text": [
      "Python Assignment-8\n",
      "\n",
      "Python Assignment-8\n"
     ]
    }
   ],
   "source": [
    "# 5)python program to remove a newline in python\n",
    "str1='Python Assignment-8\\n'\n",
    "print(str1)\n",
    "print(str1.rstrip())"
   ]
  },
  {
   "cell_type": "code",
   "execution_count": 6,
   "metadata": {},
   "outputs": [
    {
     "name": "stdout",
     "output_type": "stream",
     "text": [
      "\n",
      "1\n",
      "\n"
     ]
    }
   ],
   "source": [
    "# 6)python program to count occurrences of a substring in a string \n",
    "str1 = 'The elder brother fight with younger sister.'\n",
    "print()\n",
    "print(str1.count(\"brother\"))\n",
    "print()"
   ]
  },
  {
   "cell_type": "code",
   "execution_count": 8,
   "metadata": {},
   "outputs": [
    {
     "name": "stdout",
     "output_type": "stream",
     "text": [
      "['i', 'want', 'chocolates', 'and', 'icecream']\n"
     ]
    }
   ],
   "source": [
    "# 7)python program to convert a string in a list\n",
    "def Convert(string): \n",
    "    li = list(string.split(\" \")) \n",
    "    return li     \n",
    "str1 = \"i want chocolates and icecream\"\n",
    "print(Convert(str1))"
   ]
  },
  {
   "cell_type": "code",
   "execution_count": 9,
   "metadata": {},
   "outputs": [
    {
     "name": "stdout",
     "output_type": "stream",
     "text": [
      "ython\n",
      "Pthon\n",
      "Pyhon\n",
      "Pyton\n",
      "Pythn\n",
      "Pytho\n"
     ]
    }
   ],
   "source": [
    "# 8)python program to perform deletion of a character \n",
    "def remove_char(str, n):\n",
    "      first_part = str[:n] \n",
    "      last_part = str[n+1:]\n",
    "      return first_part + last_part\n",
    "print(remove_char('Python', 0))\n",
    "print(remove_char('Python', 1))\n",
    "print(remove_char('Python', 2))\n",
    "print(remove_char('Python', 3))\n",
    "print(remove_char('Python', 4))\n",
    "print(remove_char('Python', 5))"
   ]
  },
  {
   "cell_type": "code",
   "execution_count": 10,
   "metadata": {},
   "outputs": [
    {
     "name": "stdout",
     "output_type": "stream",
     "text": [
      "1 : h\n",
      "2 : e\n",
      "3 : l\n",
      "4 : l\n",
      "5 : o\n",
      "6 : w\n",
      "7 : o\n",
      "8 : r\n",
      "9 : d\n"
     ]
    }
   ],
   "source": [
    "# 9)python program to print every character of a string entered by user in a new line using loop\n",
    "word=\"helloword\"\n",
    "for index,letter in enumerate(word,1):\n",
    "    print(index,\":\",letter)"
   ]
  },
  {
   "cell_type": "code",
   "execution_count": 11,
   "metadata": {},
   "outputs": [
    {
     "name": "stdout",
     "output_type": "stream",
     "text": [
      "12\n"
     ]
    }
   ],
   "source": [
    "# 10)python program to find the length of the string \"refrigerator\" without using len function\n",
    "a=\"refrigeretor\"\n",
    "count=0\n",
    "for i in a:\n",
    "    count=count+1\n",
    "print(count)"
   ]
  }
 ],
 "metadata": {
  "kernelspec": {
   "display_name": "Python 3",
   "language": "python",
   "name": "python3"
  },
  "language_info": {
   "codemirror_mode": {
    "name": "ipython",
    "version": 3
   },
   "file_extension": ".py",
   "mimetype": "text/x-python",
   "name": "python",
   "nbconvert_exporter": "python",
   "pygments_lexer": "ipython3",
   "version": "3.8.3"
  }
 },
 "nbformat": 4,
 "nbformat_minor": 4
}
